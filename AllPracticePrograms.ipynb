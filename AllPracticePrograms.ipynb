{
 "cells": [
  {
   "cell_type": "markdown",
   "id": "51aec053",
   "metadata": {},
   "source": [
    "## Flatten the array(list)"
   ]
  },
  {
   "cell_type": "markdown",
   "id": "810c59e5",
   "metadata": {},
   "source": [
    "#### Using List Comprehension"
   ]
  },
  {
   "cell_type": "code",
   "execution_count": 1,
   "id": "be7a4b8d",
   "metadata": {},
   "outputs": [],
   "source": [
    "my_list = [[1, 2, 3], [4, 5, 6], [7, 8, 9]]\n",
    "flat_array = [item for sublist in my_list for item in sublist]"
   ]
  },
  {
   "cell_type": "code",
   "execution_count": 2,
   "id": "a05d6c72",
   "metadata": {},
   "outputs": [
    {
     "data": {
      "text/plain": [
       "[1, 2, 3, 4, 5, 6, 7, 8, 9]"
      ]
     },
     "execution_count": 2,
     "metadata": {},
     "output_type": "execute_result"
    }
   ],
   "source": [
    "flat_array"
   ]
  },
  {
   "cell_type": "markdown",
   "id": "14c175f2",
   "metadata": {},
   "source": [
    "#### Using normal loops"
   ]
  },
  {
   "cell_type": "code",
   "execution_count": 3,
   "id": "0540a02f",
   "metadata": {},
   "outputs": [
    {
     "name": "stdout",
     "output_type": "stream",
     "text": [
      "[1, 2, 3, 4, 5, 6, 7, 8, 9]\n"
     ]
    }
   ],
   "source": [
    "my_list = [[1, 2, 3], [4, 5, 6], [7, 8, 9]]\n",
    "\n",
    "new_list = []\n",
    "\n",
    "for i in my_list:\n",
    "    for j in i:\n",
    "        new_list.append(j)\n",
    "        \n",
    "print(new_list)"
   ]
  },
  {
   "cell_type": "markdown",
   "id": "68c6ea67",
   "metadata": {},
   "source": [
    "## Two sum problem return index"
   ]
  },
  {
   "cell_type": "markdown",
   "id": "50be66de",
   "metadata": {},
   "source": [
    "#### First Approach"
   ]
  },
  {
   "cell_type": "code",
   "execution_count": 4,
   "id": "a03f477b",
   "metadata": {},
   "outputs": [
    {
     "name": "stdout",
     "output_type": "stream",
     "text": [
      "[(0, 5), (1, 6), (2, 3)]\n"
     ]
    }
   ],
   "source": [
    "l = [1, 2, 5, 4, 3, 8, 7]\n",
    "target = 9\n",
    "\n",
    "index_pairs = []\n",
    "for i in range(len(l)):\n",
    "    for j in range(i+1, len(l)):\n",
    "        if l[i] + l[j] == target:\n",
    "            index_pairs.append((i, j))\n",
    "            \n",
    "print(index_pairs)"
   ]
  },
  {
   "cell_type": "markdown",
   "id": "38a9af02",
   "metadata": {},
   "source": [
    "#### Second apporach (Optimized)"
   ]
  },
  {
   "cell_type": "code",
   "execution_count": 14,
   "id": "b645dfdb",
   "metadata": {},
   "outputs": [
    {
     "name": "stdout",
     "output_type": "stream",
     "text": [
      "[(2, 3), (0, 5), (1, 6)]\n"
     ]
    }
   ],
   "source": [
    "def find_two_sum_index_pairs(li, target):\n",
    "    pairs = []\n",
    "    pairs_dict = {}\n",
    "    \n",
    "    for i, num in enumerate(li):\n",
    "        complement = target - num \n",
    "        if complement in pairs_dict:\n",
    "            pairs.append((pairs_dict[complement], i))\n",
    "        \n",
    "        pairs_dict[num] = i\n",
    "        \n",
    "    return pairs\n",
    "\n",
    "\n",
    "\n",
    "l = [1, 2, 5, 4, 3, 8, 7]\n",
    "target = 9\n",
    "\n",
    "result = find_two_sum_index_pairs(l, target)\n",
    "print(result)"
   ]
  },
  {
   "cell_type": "markdown",
   "id": "e35360a5",
   "metadata": {},
   "source": [
    "## Two sum problem return values"
   ]
  },
  {
   "cell_type": "markdown",
   "id": "fdd8d455",
   "metadata": {},
   "source": [
    "#### First Approach"
   ]
  },
  {
   "cell_type": "code",
   "execution_count": 17,
   "id": "edd758d4",
   "metadata": {},
   "outputs": [
    {
     "name": "stdout",
     "output_type": "stream",
     "text": [
      "[(1, 8), (2, 7), (5, 4)]\n"
     ]
    }
   ],
   "source": [
    "def find_two_sum_values(li, target):\n",
    "    pairs = []\n",
    "    \n",
    "    for i in range(len(li)):\n",
    "        for j in range(i+1, len(li)):\n",
    "            if li[i]+li[j] == target:\n",
    "                pairs.append((li[i], li[j]))\n",
    "    \n",
    "    if not pairs:\n",
    "        return None\n",
    "    \n",
    "    return pairs\n",
    "\n",
    "l = [1, 2, 5, 4, 3, 8, 7]\n",
    "target = 9\n",
    "\n",
    "result = find_two_sum_values(l, target)\n",
    "print(result)"
   ]
  },
  {
   "cell_type": "markdown",
   "id": "8b1f2a18",
   "metadata": {},
   "source": [
    "#### Second Approach (Optimized)"
   ]
  },
  {
   "cell_type": "code",
   "execution_count": 20,
   "id": "5ef9b449",
   "metadata": {},
   "outputs": [
    {
     "name": "stdout",
     "output_type": "stream",
     "text": [
      "[(5, 4), (1, 8), (2, 7)]\n"
     ]
    }
   ],
   "source": [
    "def find_two_sum_values(li, target):\n",
    "    pairs = []\n",
    "    seen = set()\n",
    "    \n",
    "    for num in li:\n",
    "        complement = target - num\n",
    "        if complement in seen:\n",
    "            pairs.append((complement, num))\n",
    "        seen.add(num)\n",
    "            \n",
    "    if not pairs:\n",
    "        return None\n",
    "    \n",
    "    return pairs\n",
    "\n",
    "\n",
    "l = [1, 2, 5, 4, 3, 8, 7]\n",
    "target = 9\n",
    "result = find_two_sum_values(l, target)\n",
    "print(result)"
   ]
  },
  {
   "cell_type": "markdown",
   "id": "407df1b5",
   "metadata": {},
   "source": [
    "## Removing Duplicates"
   ]
  },
  {
   "cell_type": "code",
   "execution_count": 22,
   "id": "b2fab0cb",
   "metadata": {},
   "outputs": [
    {
     "name": "stdout",
     "output_type": "stream",
     "text": [
      "[1, 2, 3, 4, 5, 6]\n"
     ]
    }
   ],
   "source": [
    "def remove_duplicates(li):\n",
    "    seen = set()\n",
    "    unique_list = []\n",
    "    \n",
    "    for i in li:\n",
    "        if i not in seen:\n",
    "            unique_list.append(i)\n",
    "            seen.add(i)\n",
    "            \n",
    "    return unique_list\n",
    "\n",
    "original_list = [1, 2, 2, 3, 4, 4, 5, 6, 6]\n",
    "result = remove_duplicates(original_list)\n",
    "print(result)"
   ]
  },
  {
   "cell_type": "markdown",
   "id": "cf83acb1",
   "metadata": {},
   "source": [
    "## Anagram Strings"
   ]
  },
  {
   "cell_type": "code",
   "execution_count": 32,
   "id": "72d9578b",
   "metadata": {},
   "outputs": [
    {
     "name": "stdout",
     "output_type": "stream",
     "text": [
      "['A', 'E', 'H', 'R', 'T']\n",
      "['A', 'E', 'H', 'R', 'T']\n",
      "strings are anagrams\n"
     ]
    }
   ],
   "source": [
    "def check_anagram_strings(str1, str2):\n",
    "    sorted_str1 = sorted(str1)\n",
    "    sorted_str2 = sorted(str2)\n",
    "    \n",
    "    return sorted_str1 == sorted_str2\n",
    "\n",
    "str1 = \"HEART\"\n",
    "str2 = \"EARTH\"\n",
    "\n",
    "result = check_anagram_strings(str1, str2)\n",
    "if result:\n",
    "    print(\"strings are anagrams\")\n",
    "else:\n",
    "    print(\"strings are not anagrams\")"
   ]
  },
  {
   "cell_type": "markdown",
   "id": "436c4c82",
   "metadata": {},
   "source": [
    "## Place zeros in the end"
   ]
  },
  {
   "cell_type": "markdown",
   "id": "38080411",
   "metadata": {},
   "source": [
    "#### Fist Approach (Own way)"
   ]
  },
  {
   "cell_type": "code",
   "execution_count": 33,
   "id": "362c9a99",
   "metadata": {},
   "outputs": [
    {
     "name": "stdout",
     "output_type": "stream",
     "text": [
      "[2, 4, 3, 7, 8, 0, 0, 0, 0]\n"
     ]
    }
   ],
   "source": [
    "def place_zeros_at_end(li):\n",
    "    new_li = []\n",
    "    new_num = []\n",
    "    \n",
    "    for i in range(len(li)):\n",
    "        if li[i] == 0:\n",
    "            new_li.append(li[i])\n",
    "        else:\n",
    "            new_num.append(li[i])\n",
    "    \n",
    "    return new_num + new_li\n",
    "\n",
    "original_list = [0, 2, 0, 4, 3, 0, 7, 8, 0]\n",
    "result = place_zeros_at_end(original_list)\n",
    "print(result)"
   ]
  },
  {
   "cell_type": "markdown",
   "id": "fc7c4a64",
   "metadata": {},
   "source": [
    "#### ChatGPT Approach (Taking same time and same method)"
   ]
  },
  {
   "cell_type": "code",
   "execution_count": null,
   "id": "cd56bdf0",
   "metadata": {},
   "outputs": [],
   "source": [
    "def move_zeros_to_end(lst):\n",
    "    non_zeros = [num for num in lst if num != 0]\n",
    "    zeros = [0] * (len(lst) - len(non_zeros))\n",
    "    result = non_zeros + zeros\n",
    "    return result\n",
    "\n",
    "# Example usage:\n",
    "original_list = [0, 2, 0, 4, 3, 0, 7, 8, 0]\n",
    "result_list = move_zeros_to_end(original_list)\n",
    "\n",
    "print(result_list)\n"
   ]
  },
  {
   "cell_type": "code",
   "execution_count": 37,
   "id": "5b648bc5",
   "metadata": {},
   "outputs": [
    {
     "name": "stdout",
     "output_type": "stream",
     "text": [
      "[2, 4, 3, 7, 8, 0, 0, 0, 0]\n"
     ]
    }
   ],
   "source": [
    "def move_zeros_to_end(lst):\n",
    "    non_zero_index = 0\n",
    "\n",
    "    # Move non-zero elements to the front\n",
    "    for i in range(len(lst)):\n",
    "        if lst[i] != 0:\n",
    "            lst[non_zero_index], lst[i] = lst[i], lst[non_zero_index]\n",
    "            non_zero_index += 1\n",
    "\n",
    "# Example usage:\n",
    "original_list = [0, 2, 0, 4, 3, 0, 7, 8, 0]\n",
    "move_zeros_to_end(original_list)\n",
    "\n",
    "print(original_list)\n"
   ]
  },
  {
   "cell_type": "markdown",
   "id": "a1ae09e6",
   "metadata": {},
   "source": [
    "#### Not correct way to do it"
   ]
  },
  {
   "cell_type": "code",
   "execution_count": 36,
   "id": "7dbc8db7",
   "metadata": {},
   "outputs": [
    {
     "name": "stdout",
     "output_type": "stream",
     "text": [
      "[8, 7, 4, 3, 2, 0, 0, 0, 0]\n"
     ]
    }
   ],
   "source": [
    "original_list = [0, 2, 0, 4, 3, 0, 7, 8, 0]\n",
    "sorted_li = sorted(original_list, reverse=True)\n",
    "print(sorted_li)"
   ]
  },
  {
   "cell_type": "markdown",
   "id": "495d720f",
   "metadata": {},
   "source": [
    "## Balanced Bracket"
   ]
  },
  {
   "cell_type": "code",
   "execution_count": 39,
   "id": "2f5cf805",
   "metadata": {},
   "outputs": [
    {
     "name": "stdout",
     "output_type": "stream",
     "text": [
      "Balanced\n",
      "Not Balanced\n"
     ]
    }
   ],
   "source": [
    "def is_balanced(exp):\n",
    "    pairs = []\n",
    "    brackets = {\"{\": \"}\", \"[\": \"]\", \"(\": \")\"}\n",
    "    \n",
    "    for char in exp:\n",
    "        if char in brackets.keys():\n",
    "            pairs.append(char)\n",
    "        elif char in brackets.values():\n",
    "            if not pairs or brackets[pairs.pop()] != char:\n",
    "                return \"Not Balanced\"\n",
    "            \n",
    "    return \"Balanced\" if not pairs else \"not balanced\"\n",
    "\n",
    "\n",
    "exp1 = \"[()]{}{[()()]()}\"\n",
    "exp2 = \"[(])\"\n",
    "\n",
    "print(is_balanced(exp1))\n",
    "print(is_balanced(exp2))"
   ]
  },
  {
   "cell_type": "markdown",
   "id": "8a5cd9df",
   "metadata": {},
   "source": [
    "## Selection Sort"
   ]
  },
  {
   "cell_type": "code",
   "execution_count": 43,
   "id": "36fe5bb0",
   "metadata": {},
   "outputs": [
    {
     "name": "stdout",
     "output_type": "stream",
     "text": [
      "[1, 2, 3, 4, 5, 7, 8]\n"
     ]
    }
   ],
   "source": [
    "def selection_sort(li):\n",
    "    for i in range(len(li)):\n",
    "        min_value = i\n",
    "        for j in range(i+1, len(li)):\n",
    "            if li[j] < li[min_value]:\n",
    "                min_value = j\n",
    "        li[i], li[min_value] = li[min_value], li[i]\n",
    "        \n",
    "    print(li)\n",
    "\n",
    "l = [1, 2, 5, 4, 3, 8, 7]\n",
    "selection_sort(l)"
   ]
  },
  {
   "cell_type": "markdown",
   "id": "44c41882",
   "metadata": {},
   "source": [
    "## Buuble Sort"
   ]
  },
  {
   "cell_type": "code",
   "execution_count": 44,
   "id": "c0e140bd",
   "metadata": {},
   "outputs": [
    {
     "name": "stdout",
     "output_type": "stream",
     "text": [
      "[1, 2, 3, 4, 5, 7, 8]\n"
     ]
    }
   ],
   "source": [
    "def bubble_sort(li):\n",
    "    for i in range(len(li)):\n",
    "        for j in range(len(li)-1-i):\n",
    "            if li[j] > li[j+1]:\n",
    "                li[j], li[j+1] = li[j+1], li[j]\n",
    "    print(li)\n",
    "\n",
    "l = [1, 2, 5, 4, 3, 8, 7]\n",
    "bubble_sort(l)"
   ]
  },
  {
   "cell_type": "markdown",
   "id": "02174e3c",
   "metadata": {},
   "source": [
    "## Fibonacci Series"
   ]
  },
  {
   "cell_type": "code",
   "execution_count": 46,
   "id": "97ef2c01",
   "metadata": {},
   "outputs": [
    {
     "name": "stdout",
     "output_type": "stream",
     "text": [
      "0\n",
      "1\n",
      "1\n",
      "2\n",
      "3\n",
      "5\n",
      "8\n",
      "13\n",
      "21\n",
      "34\n",
      "55\n",
      "89\n",
      "144\n",
      "233\n",
      "377\n"
     ]
    }
   ],
   "source": [
    "def find_fib_series(num):\n",
    "    first_num = 0\n",
    "    second_num = 1\n",
    "    next_num = None\n",
    "    \n",
    "    for i in range(num):\n",
    "        print(first_num)\n",
    "        \n",
    "        next_num = first_num + second_num\n",
    "        first_num = second_num\n",
    "        second_num = next_num\n",
    "        \n",
    "find_fib_series(15)"
   ]
  },
  {
   "cell_type": "markdown",
   "id": "766b383e",
   "metadata": {},
   "source": [
    "## Transpose Matrix"
   ]
  },
  {
   "cell_type": "code",
   "execution_count": 48,
   "id": "951808ce",
   "metadata": {},
   "outputs": [
    {
     "name": "stdout",
     "output_type": "stream",
     "text": [
      "[[2, 3, 4], [4, 5, 7], [5, 7, 9]]\n"
     ]
    }
   ],
   "source": [
    "def transpose_matrix(mat):\n",
    "    new_mat = [[0] * len(mat) for _ in range(len(mat[1]))]\n",
    "    \n",
    "    for i in range(len(mat)):\n",
    "        for j in range(len(mat[i])):\n",
    "            new_mat[i][j] = mat[j][i]\n",
    "            \n",
    "    print(new_mat)\n",
    "\n",
    "mat = [[2, 4, 5], \n",
    "       [3, 5, 7], \n",
    "       [4, 7, 9]]\n",
    "transpose_matrix(mat)"
   ]
  },
  {
   "cell_type": "markdown",
   "id": "26bf5044",
   "metadata": {},
   "source": [
    "## Add Two Matrix"
   ]
  },
  {
   "cell_type": "code",
   "execution_count": null,
   "id": "5290080c",
   "metadata": {},
   "outputs": [],
   "source": [
    "import numpy as np\n",
    "\n",
    "def add_two_matrix(mat1, mat2):\n",
    "    zeros_mat = np.zeros((3, 3))\n",
    "    zeros_mat = zeros_mat.tolist()\n",
    "    \n",
    "    for i in range(len(mat1)):\n",
    "        for j in range(len(mat1[i])):\n",
    "            zeros_mat[i][j] = mat1[i][j] + mat2[i][j]\n",
    "            \n",
    "    print(zeros_mat)\n",
    "\n",
    "mat1 = np.array([np.random.randint(1, 10, 3) for _ in range(3)])\n",
    "mat1 = mat1.tolist()\n",
    "\n",
    "mat2 = np.array([np.random.randint(1, 10, 3) for _ in range(3)])\n",
    "mat2 = mat2.tolist()\n",
    "\n",
    "print(mat1)\n",
    "print(mat2)\n",
    "add_two_matrix(mat1, mat2)"
   ]
  },
  {
   "cell_type": "markdown",
   "id": "37841b9c",
   "metadata": {},
   "source": [
    "## Reverse String"
   ]
  },
  {
   "cell_type": "markdown",
   "id": "1c289ac3",
   "metadata": {},
   "source": [
    "#### Approach one (String Slicing Method)"
   ]
  },
  {
   "cell_type": "code",
   "execution_count": 70,
   "id": "ad97ae21",
   "metadata": {},
   "outputs": [
    {
     "name": "stdout",
     "output_type": "stream",
     "text": [
      "EROHBMA HSAKARPVIHS HSEGOY\n"
     ]
    }
   ],
   "source": [
    "name = \"YOGESH SHIVPRAKASH AMBHORE\"\n",
    "rev_name = name[::-1]\n",
    "print(rev_name)"
   ]
  },
  {
   "cell_type": "markdown",
   "id": "0b583c88",
   "metadata": {},
   "source": [
    "#### Approach two manual reversing"
   ]
  },
  {
   "cell_type": "code",
   "execution_count": 71,
   "id": "83c78394",
   "metadata": {},
   "outputs": [
    {
     "name": "stdout",
     "output_type": "stream",
     "text": [
      "EROHBMA HSAKARPVIHS HSEGOY\n"
     ]
    }
   ],
   "source": [
    "def reverse_string(string):\n",
    "    blank = ''\n",
    "    \n",
    "    for i in string:\n",
    "        blank = i + blank\n",
    "    return blank\n",
    "\n",
    "name = \"YOGESH SHIVPRAKASH AMBHORE\"\n",
    "print(reverse_string(name))"
   ]
  },
  {
   "cell_type": "markdown",
   "id": "30c3757f",
   "metadata": {},
   "source": [
    "## Dictionary Merging"
   ]
  },
  {
   "cell_type": "code",
   "execution_count": 76,
   "id": "dee6b8cd",
   "metadata": {},
   "outputs": [
    {
     "name": "stdout",
     "output_type": "stream",
     "text": [
      "{'a': 1, 'b': 3, 'c': 4, 'd': 5, 'e': 7, 'f': 3}\n"
     ]
    }
   ],
   "source": [
    "a = {\"a\": 1, \"b\": 3, \"c\": 4}\n",
    "b = {\"d\": 5, \"e\": 7, \"f\": 3}\n",
    "\n",
    "a.update(b)\n",
    "print(a)"
   ]
  },
  {
   "cell_type": "code",
   "execution_count": 78,
   "id": "d7e23fb8",
   "metadata": {},
   "outputs": [
    {
     "name": "stdout",
     "output_type": "stream",
     "text": [
      "{'a': 1, 'b': 3, 'c': 4, 'd': 5, 'e': 7, 'f': 3}\n"
     ]
    }
   ],
   "source": [
    "merg_d = a | b\n",
    "print(merg_d)"
   ]
  },
  {
   "cell_type": "code",
   "execution_count": 80,
   "id": "bd3b1eed",
   "metadata": {},
   "outputs": [
    {
     "name": "stdout",
     "output_type": "stream",
     "text": [
      "{'a': 1, 'b': 3, 'c': 4, 'd': 5, 'e': 7, 'f': 3}\n"
     ]
    }
   ],
   "source": [
    "merged_dict = {**a, **b}\n",
    "print(merged_dict)"
   ]
  },
  {
   "cell_type": "markdown",
   "id": "6bc8383b",
   "metadata": {},
   "source": [
    "## Sorting Dictionary By Values"
   ]
  },
  {
   "cell_type": "code",
   "execution_count": 87,
   "id": "1f702002",
   "metadata": {},
   "outputs": [
    {
     "name": "stdout",
     "output_type": "stream",
     "text": [
      "{'f': 2, 'b': 3, 'd': 5, 'c': 6, 'e': 7, 'a': 8}\n"
     ]
    }
   ],
   "source": [
    "def sort_dict_by_value(a):\n",
    "    dict_list = list(a.items())\n",
    "    len_of_dict = len(dict_list)\n",
    "    \n",
    "    for i in range(len_of_dict):\n",
    "        for j in range(len_of_dict-i-1):\n",
    "            if dict_list[j][1] > dict_list[j+1][1]:\n",
    "                dict_list[j], dict_list[j+1] = dict_list[j+1], dict_list[j]\n",
    "    \n",
    "    updated_dict = dict(dict_list)\n",
    "    print(updated_dict)\n",
    "\n",
    "\n",
    "a = {\"a\": 8, \"b\": 3, \"c\": 6, \"d\": 5, \"e\": 7, \"f\": 2}\n",
    "sort_dict_by_value(a)"
   ]
  },
  {
   "cell_type": "markdown",
   "id": "247fe598",
   "metadata": {},
   "source": [
    "## Replace Space with character"
   ]
  },
  {
   "cell_type": "code",
   "execution_count": 96,
   "id": "8aff8ca2",
   "metadata": {},
   "outputs": [
    {
     "name": "stdout",
     "output_type": "stream",
     "text": [
      "DataCampBlackFridaySale\n"
     ]
    }
   ],
   "source": [
    "def replace_spaces_wit_chars(text, char):\n",
    "    blank_string = ''\n",
    "    \n",
    "    for i in text:\n",
    "        if i == ' ':\n",
    "            blank_string = blank_string + char\n",
    "        else:\n",
    "            blank_string = blank_string + i\n",
    "        \n",
    "    print(blank_string)\n",
    "\n",
    "text = \"D t C mpBl ckFrid yS le\"\n",
    "ch = \"a\"\n",
    "replace_spaces_wit_chars(text, ch)"
   ]
  },
  {
   "cell_type": "markdown",
   "id": "0ce612fd",
   "metadata": {},
   "source": [
    "## Reverse Digit String"
   ]
  },
  {
   "cell_type": "code",
   "execution_count": 99,
   "id": "f9f424ea",
   "metadata": {},
   "outputs": [
    {
     "name": "stdout",
     "output_type": "stream",
     "text": [
      "456321\n"
     ]
    }
   ],
   "source": [
    "def rev_digit_string(number):\n",
    "    rev_number = 0\n",
    "    \n",
    "    while number > 0:\n",
    "        last_digit = number % 10\n",
    "        rev_number = rev_number * 10 + last_digit\n",
    "        number = number // 10\n",
    "        \n",
    "    print(rev_number)\n",
    "    \n",
    "number = 123654\n",
    "rev_digit_string(number)"
   ]
  },
  {
   "cell_type": "markdown",
   "id": "48c69978",
   "metadata": {},
   "source": [
    "## Palindrome Number"
   ]
  },
  {
   "cell_type": "code",
   "execution_count": 101,
   "id": "b1938a31",
   "metadata": {},
   "outputs": [
    {
     "name": "stdout",
     "output_type": "stream",
     "text": [
      "False\n"
     ]
    }
   ],
   "source": [
    "def check_palindrome(number):\n",
    "    temp_number = number\n",
    "    rev_number = 0\n",
    "    \n",
    "    while number > 0:\n",
    "        last_digit = number % 10\n",
    "        rev_number = rev_number * 10 + last_digit\n",
    "        number = number // 10\n",
    "        \n",
    "    if rev_number == temp_number:\n",
    "        return True\n",
    "    else:\n",
    "        return False\n",
    "    \n",
    "number = 1233213\n",
    "print(check_palindrome(number))"
   ]
  },
  {
   "cell_type": "markdown",
   "id": "f8d5a331",
   "metadata": {},
   "source": [
    "## Armstrong Number"
   ]
  },
  {
   "cell_type": "code",
   "execution_count": 109,
   "id": "dcda256b",
   "metadata": {},
   "outputs": [
    {
     "name": "stdout",
     "output_type": "stream",
     "text": [
      "False\n"
     ]
    }
   ],
   "source": [
    "def check_armstrong(number):\n",
    "    temp_number = number\n",
    "    sum_of_numbers = 0\n",
    "    \n",
    "    while number > 0:\n",
    "        last_digit = number % 10\n",
    "        sum_of_numbers += last_digit**len(str(temp_number))\n",
    "        number = number // 10\n",
    "    \n",
    "    if sum_of_numbers == temp_number:\n",
    "        return True\n",
    "    else:\n",
    "        return False\n",
    "    \n",
    "number = 1234\n",
    "print(check_armstrong(number))"
   ]
  },
  {
   "cell_type": "markdown",
   "id": "c9d0c973",
   "metadata": {},
   "source": [
    "## Prime Number"
   ]
  },
  {
   "cell_type": "code",
   "execution_count": 115,
   "id": "a0bb1f7f",
   "metadata": {},
   "outputs": [
    {
     "name": "stdout",
     "output_type": "stream",
     "text": [
      "Number is prime\n"
     ]
    }
   ],
   "source": [
    "def check_prime_number(number):\n",
    "    count = 0\n",
    "    \n",
    "    for i in range(1, number+1):\n",
    "        if number % i == 0:\n",
    "            count += 1\n",
    "    if count == 2:\n",
    "        print(\"Number is prime\")\n",
    "    else:\n",
    "        print(\"Number is not prime\")\n",
    "\n",
    "check_prime_number(7)"
   ]
  },
  {
   "cell_type": "markdown",
   "id": "d3a29a5f",
   "metadata": {},
   "source": [
    "## Prime in list"
   ]
  },
  {
   "cell_type": "code",
   "execution_count": 124,
   "id": "af762851",
   "metadata": {},
   "outputs": [
    {
     "name": "stdout",
     "output_type": "stream",
     "text": [
      "prime list :  [2, 3, 5, 7]\n",
      "non prime list :  [1, 4, 6, 8, 9]\n"
     ]
    }
   ],
   "source": [
    "def check_prime_in_list(li):\n",
    "    prime_list = []\n",
    "    non_prime_list = []\n",
    "    for i in li:\n",
    "        count = 0\n",
    "        for j in range(1, i+1):\n",
    "            if i % j == 0:\n",
    "                count += 1\n",
    "                \n",
    "        if count == 2:\n",
    "            prime_list.append(i)\n",
    "        else:\n",
    "            non_prime_list.append(i)\n",
    "            \n",
    "    print(\"prime list : \", prime_list)\n",
    "    print(\"non prime list : \", non_prime_list)\n",
    "    \n",
    "li = [1, 2, 3, 4, 5, 6, 7, 8, 9]\n",
    "check_prime_in_list(li)"
   ]
  },
  {
   "cell_type": "markdown",
   "id": "65f1d959",
   "metadata": {},
   "source": [
    "## Odd Or Even"
   ]
  },
  {
   "cell_type": "code",
   "execution_count": 127,
   "id": "fe2878c0",
   "metadata": {},
   "outputs": [
    {
     "name": "stdout",
     "output_type": "stream",
     "text": [
      "Number is even\n"
     ]
    }
   ],
   "source": [
    "def check_odd_even(number):\n",
    "    if number % 2 == 0:\n",
    "        print(\"Number is even\")\n",
    "    else:\n",
    "        print(\"number is odd\")\n",
    "        \n",
    "check_odd_even(4)"
   ]
  },
  {
   "cell_type": "markdown",
   "id": "2a89da65",
   "metadata": {},
   "source": [
    "## Odd or Even in list"
   ]
  },
  {
   "cell_type": "code",
   "execution_count": 129,
   "id": "d5265525",
   "metadata": {},
   "outputs": [
    {
     "name": "stdout",
     "output_type": "stream",
     "text": [
      "Odd list  [1, 3, 5, 7, 9]\n",
      "Even List  [2, 4, 6, 8]\n"
     ]
    }
   ],
   "source": [
    "def check_odd_or_even_in_list(li):\n",
    "    odd_list = []\n",
    "    even_list = []\n",
    "    \n",
    "    for i in li:\n",
    "        if i % 2 == 0:\n",
    "            even_list.append(i)\n",
    "        else:\n",
    "            odd_list.append(i)\n",
    "            \n",
    "    print(\"Odd list \", odd_list)\n",
    "    print(\"Even List \", even_list)\n",
    "    \n",
    "li = [1, 2, 3, 4, 5, 6, 7, 8, 9]\n",
    "check_odd_or_even_in_list(li)"
   ]
  },
  {
   "cell_type": "markdown",
   "id": "73b3e7db",
   "metadata": {},
   "source": [
    "## Prime numbers within specific range"
   ]
  },
  {
   "cell_type": "code",
   "execution_count": 134,
   "id": "14b6dba2",
   "metadata": {},
   "outputs": [
    {
     "name": "stdout",
     "output_type": "stream",
     "text": [
      "[2, 3, 5, 7]\n"
     ]
    }
   ],
   "source": [
    "def get_prime_numbers_within_range(start, end):\n",
    "    li = []\n",
    "    for i in range(start, end+1):\n",
    "        count = 0\n",
    "        for j in range(1, i+1):\n",
    "            if i % j == 0:\n",
    "                count += 1\n",
    "                \n",
    "        if count == 2:\n",
    "            li.append(i)\n",
    "            \n",
    "    return li\n",
    "\n",
    "start = 1\n",
    "end = 10\n",
    "result = get_prime_numbers_within_range(start, end)\n",
    "print(result)"
   ]
  },
  {
   "cell_type": "markdown",
   "id": "2d11a645",
   "metadata": {},
   "source": [
    "## Reverse List"
   ]
  },
  {
   "cell_type": "code",
   "execution_count": 131,
   "id": "be778bc1",
   "metadata": {},
   "outputs": [
    {
     "name": "stdout",
     "output_type": "stream",
     "text": [
      "[9, 8, 7, 6, 5, 4, 3, 2, 1]\n"
     ]
    }
   ],
   "source": [
    "li = [1, 2, 3, 4, 5, 6, 7, 8, 9]\n",
    "rev_li = li[::-1]\n",
    "print(rev_li)"
   ]
  },
  {
   "cell_type": "code",
   "execution_count": 133,
   "id": "d356db99",
   "metadata": {},
   "outputs": [
    {
     "name": "stdout",
     "output_type": "stream",
     "text": [
      "[9, 8, 7, 6, 5, 4, 3, 2, 1]\n"
     ]
    }
   ],
   "source": [
    "def rev_list(li):\n",
    "    start = 0\n",
    "    end = len(li)-1\n",
    "    \n",
    "    while start < end:\n",
    "        li[start], li[end] = li[end], li[start]\n",
    "        \n",
    "        start += 1\n",
    "        end -= 1\n",
    "    \n",
    "    print(li)\n",
    "    \n",
    "li = [1, 2, 3, 4, 5, 6, 7, 8, 9]\n",
    "rev_list(li)"
   ]
  },
  {
   "cell_type": "markdown",
   "id": "4463709b",
   "metadata": {},
   "source": [
    "## All Possible Substrings"
   ]
  },
  {
   "cell_type": "code",
   "execution_count": 137,
   "id": "5af69a07",
   "metadata": {},
   "outputs": [
    {
     "name": "stdout",
     "output_type": "stream",
     "text": [
      "['a', 'ab', 'abc', 'abca', 'abcab', 'abcabd', 'abcabds', 'b', 'bc', 'bca', 'bcab', 'bcabd', 'bcabds', 'c', 'ca', 'cab', 'cabd', 'cabds', 'a', 'ab', 'abd', 'abds', 'b', 'bd', 'bds', 'd', 'ds', 's']\n"
     ]
    }
   ],
   "source": [
    "def get_all_substring(string):\n",
    "    sub_strings = []\n",
    "    for i in range(len(string)):\n",
    "        for j in range(i+1, len(string)+1):\n",
    "            sub_strings.append(string[i:j])\n",
    "    return sub_strings\n",
    "\n",
    "string = \"abcabds\"\n",
    "result = get_all_substring(string)\n",
    "print(result)"
   ]
  },
  {
   "cell_type": "markdown",
   "id": "3fa4a0c1",
   "metadata": {},
   "source": [
    "## Longest Prefix Substring"
   ]
  },
  {
   "cell_type": "code",
   "execution_count": 138,
   "id": "c8eb1c3b",
   "metadata": {},
   "outputs": [
    {
     "name": "stdout",
     "output_type": "stream",
     "text": [
      "fl\n"
     ]
    }
   ],
   "source": [
    "def find_longest_prefix_substring(li):\n",
    "    sorted_li = sorted(li)\n",
    "    prefixes = []\n",
    "    first_string = sorted_li[0]\n",
    "    last_string = sorted_li[-1]\n",
    "    \n",
    "    new_range = min(len(first_string), len(last_string))\n",
    "    \n",
    "    for i in range(new_range):\n",
    "        if first_string[i] == last_string[i]:\n",
    "            prefixes.append(first_string[i])\n",
    "            \n",
    "    return ''.join(prefixes)\n",
    "\n",
    "li = ['flower', 'flag', 'fly', 'float']\n",
    "result = find_longest_prefix_substring(li)\n",
    "print(result)"
   ]
  },
  {
   "cell_type": "markdown",
   "id": "e4c70dc7",
   "metadata": {},
   "source": [
    "## Second Largest"
   ]
  },
  {
   "cell_type": "code",
   "execution_count": 150,
   "id": "2b09cc88",
   "metadata": {},
   "outputs": [
    {
     "name": "stdout",
     "output_type": "stream",
     "text": [
      "25\n",
      "24\n"
     ]
    }
   ],
   "source": [
    "def find_second_largest(li):\n",
    "    largest = 0\n",
    "    second_largest = 0\n",
    "    \n",
    "    for num in range(len(li)):\n",
    "        if li[num] > li[largest]:\n",
    "            second_largest = largest\n",
    "            largest = num\n",
    "        elif li[num] > li[second_largest] and li[num] != li[largest]:\n",
    "            second_largest = num\n",
    "            \n",
    "    print(li[largest])\n",
    "    print(li[second_largest])\n",
    "    \n",
    "arr = [12, 5, 17, 10, 15, 8, 19, 24, 6, 8, 25]\n",
    "find_second_largest(arr)"
   ]
  },
  {
   "cell_type": "markdown",
   "id": "d8442723",
   "metadata": {},
   "source": [
    "## Finding if the number is perfect square"
   ]
  },
  {
   "cell_type": "code",
   "execution_count": 153,
   "id": "d6fb37ee",
   "metadata": {},
   "outputs": [
    {
     "name": "stdout",
     "output_type": "stream",
     "text": [
      "3\n",
      "True\n"
     ]
    }
   ],
   "source": [
    "import math\n",
    "\n",
    "def check_perfect_square(number):\n",
    "    sqrt_or_number = round(math.sqrt(number))\n",
    "    print(sqrt_or_number)\n",
    "    if sqrt_or_number**2 == number:\n",
    "        return True\n",
    "    else:\n",
    "        return False\n",
    "\n",
    "print(check_perfect_square(9))"
   ]
  },
  {
   "cell_type": "markdown",
   "id": "f5f4a4c3",
   "metadata": {},
   "source": [
    "## Counting Trailing Zeros"
   ]
  },
  {
   "cell_type": "code",
   "execution_count": 162,
   "id": "72a0131e",
   "metadata": {},
   "outputs": [
    {
     "name": "stdout",
     "output_type": "stream",
     "text": [
      "3\n"
     ]
    }
   ],
   "source": [
    "def find_factorial(number):\n",
    "    fact = 1\n",
    "    for i in range(1, number+1):\n",
    "        fact *= i\n",
    "    return fact\n",
    "\n",
    "def find_trailing_zeros(number):\n",
    "    fact = find_factorial(number)\n",
    "    result = 0\n",
    "    for i in str(fact)[::-1]:\n",
    "        if i == '0':\n",
    "            result += 1\n",
    "        else:\n",
    "            break\n",
    "    return result\n",
    "    \n",
    "result = find_trailing_zeros(18)\n",
    "print(result)"
   ]
  },
  {
   "cell_type": "markdown",
   "id": "8a2685d0",
   "metadata": {},
   "source": [
    "## Finding Missing Value"
   ]
  },
  {
   "cell_type": "code",
   "execution_count": 170,
   "id": "68621250",
   "metadata": {},
   "outputs": [
    {
     "name": "stdout",
     "output_type": "stream",
     "text": [
      "[6, 9]\n"
     ]
    }
   ],
   "source": [
    "def find_missing_value(li):\n",
    "    s = min(li)\n",
    "    l = max(li)\n",
    "    missing = []\n",
    "    \n",
    "    li_set = set(li)\n",
    "    \n",
    "    for item in range(s, l+1):\n",
    "        if item not in li_set:\n",
    "            missing.append(item)\n",
    "            \n",
    "    return missing\n",
    "    \n",
    "l = [2, 4, 1, 5, 7, 3, 8, 10]\n",
    "result = find_missing_value(l)\n",
    "print(result)"
   ]
  },
  {
   "cell_type": "code",
   "execution_count": null,
   "id": "c6b32dae",
   "metadata": {},
   "outputs": [],
   "source": []
  }
 ],
 "metadata": {
  "kernelspec": {
   "display_name": "Python 3 (ipykernel)",
   "language": "python",
   "name": "python3"
  },
  "language_info": {
   "codemirror_mode": {
    "name": "ipython",
    "version": 3
   },
   "file_extension": ".py",
   "mimetype": "text/x-python",
   "name": "python",
   "nbconvert_exporter": "python",
   "pygments_lexer": "ipython3",
   "version": "3.11.4"
  }
 },
 "nbformat": 4,
 "nbformat_minor": 5
}
